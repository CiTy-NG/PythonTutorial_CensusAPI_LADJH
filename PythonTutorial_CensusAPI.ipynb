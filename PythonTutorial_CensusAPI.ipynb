{
 "cells": [
  {
   "cell_type": "code",
   "execution_count": 201,
   "id": "576056fd-e61c-406e-9ba7-7a387435afd9",
   "metadata": {},
   "outputs": [],
   "source": [
    "import subprocess\n",
    "import sys\n",
    "\n",
    "# Function to check and install missing module\n",
    "def install_and_import(module_name):\n",
    "    try:\n",
    "        globals()[module_name] = __import__(module_name)\n",
    "    except ImportError:\n",
    "        subprocess.check_call([sys.executable, \"-m\", \"pip\", \"install\", module_name])\n",
    "        globals()[module_name] = __import__(module_name)\n",
    "\n",
    "# List of modules to check and import\n",
    "modules = [\n",
    "    \"censusdata\",\n",
    "    \"pandas\",\n",
    "    \"plotly\",\n",
    "    \"ipywidgets\",\n",
    "    \"census\",\n",
    "    \"us\",\n",
    "    \"tqdm\"\n",
    "]\n",
    "\n",
    "# Check and import all modules\n",
    "for module in modules:\n",
    "    install_and_import(module)\n",
    "\n",
    "# After running the above code, the modules will be available\n",
    "# Continue with your code\n",
    "import pandas as pd\n",
    "import plotly.express as px\n",
    "from plotly.subplots import make_subplots\n",
    "import plotly.graph_objects as go\n",
    "import ipywidgets as widgets\n",
    "from ipywidgets import interactive\n",
    "\n",
    "from census import Census\n",
    "from us import states\n",
    "from tqdm import tqdm\n"
   ]
  },
  {
   "cell_type": "markdown",
   "id": "23d3769e-6576-49d7-9b02-917783e7b866",
   "metadata": {},
   "source": [
    "# Downloading Census Data and Visualizing Interactive plots\n",
    "\n",
    "__In this notebook, you will learn to doanload Census Data from the American Community Survey, and then represent it as straightforward, interactive, line charts and bar charts__\n",
    "\n",
    "## enjoy!"
   ]
  },
  {
   "cell_type": "markdown",
   "id": "1f863994-14fd-4b9e-a68c-1770b0c4e389",
   "metadata": {},
   "source": [
    "# Start\n",
    "__by navigating tho this website and requesting an API key:__\n",
    "\n",
    "https://api.census.gov/data/key_signup.html\n",
    "\n",
    "An API key is like a secret password that allows different software applications to talk to each other securely and access specific features or data."
   ]
  },
  {
   "cell_type": "code",
   "execution_count": 114,
   "id": "80177d0d-1b3e-4b13-8fcf-99b78ceab8c8",
   "metadata": {},
   "outputs": [],
   "source": [
    "# Set the API key sent to your email\n",
    "\n",
    "key = '6ba5559b5464b63389f273acaecde905e7405e83'\n",
    "\n",
    "c = Census(key)"
   ]
  },
  {
   "cell_type": "markdown",
   "id": "e4075960-c5ca-4166-92e6-0e5a1be59f02",
   "metadata": {},
   "source": [
    "# Download the Variables of your choosing\n",
    "\n",
    "The current code downloads variables pertaining to income class in LA county, but you can choose other variables!\n",
    "\n",
    "__Navigate to this data table listing different variables that can be found in the ACS to find alternatives:__\n",
    "\n",
    "https://api.census.gov/data/2022/acs/acs5/groups/.html\n",
    "\n",
    "Remember that to use these variables you will have to modify the variable names in the code bellow."
   ]
  },
  {
   "cell_type": "code",
   "execution_count": 139,
   "id": "26248f2b-19db-4354-bc42-61828f16a5ef",
   "metadata": {},
   "outputs": [],
   "source": [
    "# Unclean table\n",
    "vars = (\n",
    "    'NAME',  # Name of the tract\n",
    "    'B01003_001E', # total pop\n",
    "\n",
    "    # yearly income vars\n",
    "    'B19001_001E', # total Households,\n",
    "    'B19001_002E', # Income above previous and under 10k,\n",
    "    'B19001_003E', # Income above previous and under 15k,\n",
    "    'B19001_004E', # Income above previous and under 20k,\n",
    "    'B19001_005E', # Income above previous and under 25k,\n",
    "    'B19001_006E', # Income above previous and under 30k,\n",
    "    'B19001_007E', # Income above previous and under 35k,\n",
    "    'B19001_008E', # Income above previous and under 40k,\n",
    "    'B19001_009E', # Income above previous and under 45k,\n",
    "    'B19001_010E', # Income above previous and under 50k,\n",
    "    'B19001_011E', # Income above previous and under 60k,\n",
    "    'B19001_012E', # Income above previous and under 75k,\n",
    "    'B19001_013E', # Income above previous and under 100k,\n",
    "    'B19001_014E', # Income above previous and under 125k,\n",
    "    'B19001_015E', # Income above previous and under 150k,\n",
    "    'B19001_016E', # Income above previous and under 200k,\n",
    "    'B19001_017E', # 200k And Over',\n",
    "    \n",
    "    )\n",
    "\n",
    "LAinc_Data = c.acs5.state_county_tract(fields=vars,\n",
    "                                      state_fips=states.CA.fips,\n",
    "                                      county_fips=\"037\",\n",
    "                                      tract=\"*\",\n",
    "                                      year=2022)\n",
    "df = pd.DataFrame(LAinc_Data)"
   ]
  },
  {
   "cell_type": "code",
   "execution_count": 140,
   "id": "753fc868-f7c6-4ef6-ae31-7388d400718c",
   "metadata": {},
   "outputs": [
    {
     "data": {
      "text/html": [
       "<div>\n",
       "<style scoped>\n",
       "    .dataframe tbody tr th:only-of-type {\n",
       "        vertical-align: middle;\n",
       "    }\n",
       "\n",
       "    .dataframe tbody tr th {\n",
       "        vertical-align: top;\n",
       "    }\n",
       "\n",
       "    .dataframe thead th {\n",
       "        text-align: right;\n",
       "    }\n",
       "</style>\n",
       "<table border=\"1\" class=\"dataframe\">\n",
       "  <thead>\n",
       "    <tr style=\"text-align: right;\">\n",
       "      <th></th>\n",
       "      <th>NAME</th>\n",
       "      <th>B01003_001E</th>\n",
       "      <th>B19001_001E</th>\n",
       "      <th>B19001_002E</th>\n",
       "      <th>B19001_003E</th>\n",
       "      <th>B19001_004E</th>\n",
       "      <th>B19001_005E</th>\n",
       "      <th>B19001_006E</th>\n",
       "      <th>B19001_007E</th>\n",
       "      <th>B19001_008E</th>\n",
       "      <th>...</th>\n",
       "      <th>B19001_011E</th>\n",
       "      <th>B19001_012E</th>\n",
       "      <th>B19001_013E</th>\n",
       "      <th>B19001_014E</th>\n",
       "      <th>B19001_015E</th>\n",
       "      <th>B19001_016E</th>\n",
       "      <th>B19001_017E</th>\n",
       "      <th>state</th>\n",
       "      <th>county</th>\n",
       "      <th>tract</th>\n",
       "    </tr>\n",
       "  </thead>\n",
       "  <tbody>\n",
       "    <tr>\n",
       "      <th>0</th>\n",
       "      <td>Census Tract 1011.10; Los Angeles County; Cali...</td>\n",
       "      <td>4014.0</td>\n",
       "      <td>1551.0</td>\n",
       "      <td>67.0</td>\n",
       "      <td>96.0</td>\n",
       "      <td>33.0</td>\n",
       "      <td>72.0</td>\n",
       "      <td>11.0</td>\n",
       "      <td>78.0</td>\n",
       "      <td>19.0</td>\n",
       "      <td>...</td>\n",
       "      <td>74.0</td>\n",
       "      <td>221.0</td>\n",
       "      <td>102.0</td>\n",
       "      <td>182.0</td>\n",
       "      <td>144.0</td>\n",
       "      <td>123.0</td>\n",
       "      <td>177.0</td>\n",
       "      <td>06</td>\n",
       "      <td>037</td>\n",
       "      <td>101110</td>\n",
       "    </tr>\n",
       "    <tr>\n",
       "      <th>1</th>\n",
       "      <td>Census Tract 1011.22; Los Angeles County; Cali...</td>\n",
       "      <td>4164.0</td>\n",
       "      <td>1383.0</td>\n",
       "      <td>84.0</td>\n",
       "      <td>0.0</td>\n",
       "      <td>7.0</td>\n",
       "      <td>44.0</td>\n",
       "      <td>20.0</td>\n",
       "      <td>29.0</td>\n",
       "      <td>0.0</td>\n",
       "      <td>...</td>\n",
       "      <td>31.0</td>\n",
       "      <td>208.0</td>\n",
       "      <td>173.0</td>\n",
       "      <td>102.0</td>\n",
       "      <td>181.0</td>\n",
       "      <td>204.0</td>\n",
       "      <td>286.0</td>\n",
       "      <td>06</td>\n",
       "      <td>037</td>\n",
       "      <td>101122</td>\n",
       "    </tr>\n",
       "  </tbody>\n",
       "</table>\n",
       "<p>2 rows × 22 columns</p>\n",
       "</div>"
      ],
      "text/plain": [
       "                                                NAME  B01003_001E  \\\n",
       "0  Census Tract 1011.10; Los Angeles County; Cali...       4014.0   \n",
       "1  Census Tract 1011.22; Los Angeles County; Cali...       4164.0   \n",
       "\n",
       "   B19001_001E  B19001_002E  B19001_003E  B19001_004E  B19001_005E  \\\n",
       "0       1551.0         67.0         96.0         33.0         72.0   \n",
       "1       1383.0         84.0          0.0          7.0         44.0   \n",
       "\n",
       "   B19001_006E  B19001_007E  B19001_008E  ...  B19001_011E  B19001_012E  \\\n",
       "0         11.0         78.0         19.0  ...         74.0        221.0   \n",
       "1         20.0         29.0          0.0  ...         31.0        208.0   \n",
       "\n",
       "   B19001_013E  B19001_014E  B19001_015E  B19001_016E  B19001_017E  state  \\\n",
       "0        102.0        182.0        144.0        123.0        177.0     06   \n",
       "1        173.0        102.0        181.0        204.0        286.0     06   \n",
       "\n",
       "   county   tract  \n",
       "0     037  101110  \n",
       "1     037  101122  \n",
       "\n",
       "[2 rows x 22 columns]"
      ]
     },
     "execution_count": 140,
     "metadata": {},
     "output_type": "execute_result"
    }
   ],
   "source": [
    "# view data\n",
    "df.head(2)"
   ]
  },
  {
   "cell_type": "markdown",
   "id": "293afc03-6e09-4d90-be7c-1ca4d8375d4c",
   "metadata": {},
   "source": [
    "## Let's clean this table up\n",
    "\n",
    "The code bellow uses a python package called pandas to reorganize the columns and rename the variables using Natural Language (i.e. human language). Don't worry too much about the code, just make sure you read the commented code (text following a hashtag) to understand what is happening."
   ]
  },
  {
   "cell_type": "code",
   "execution_count": 142,
   "id": "eeb877dd-66ea-4bf5-b5b8-d0693d8f9733",
   "metadata": {},
   "outputs": [],
   "source": [
    "# Reorder the columns to move 'state', 'county', 'tract' to the beginning\n",
    "columns_order = ['state', 'county', 'tract'] + [col for col in df.columns if col not in ['GEO_ID', 'state', 'county', 'tract']]\n",
    "df = df[columns_order]"
   ]
  },
  {
   "cell_type": "code",
   "execution_count": 143,
   "id": "79d86464-2e4c-4d5c-b97f-6bea6177e3e5",
   "metadata": {},
   "outputs": [],
   "source": [
    "# renaming variables\n",
    "\n",
    "# Dictionary mapping census codes to descriptions\n",
    "column_mapping = {\n",
    "    'B01003_001E': 'Total_Pop',\n",
    "    \n",
    "    # Income Brackets\n",
    "    'B19001_001E': 'Total_House',\n",
    "    'B19001_002E': 'Inc<10',\n",
    "    'B19001_003E': '10<Inc<15',\n",
    "    'B19001_004E': '15<Inc<20',\n",
    "    'B19001_005E': '20<Inc<25',\n",
    "    'B19001_006E': '25<Inc<30',\n",
    "    'B19001_007E': '30<Inc<35',\n",
    "    'B19001_008E': '35<Inc<40',\n",
    "    'B19001_009E': '40<Inc<45',\n",
    "    'B19001_010E': '45<Inc<50',\n",
    "    'B19001_011E': '50<Inc<60',\n",
    "    'B19001_012E': '60<Inc<75',\n",
    "    'B19001_013E': '75<Inc<100',\n",
    "    'B19001_014E': '100<Inc<125',\n",
    "    'B19001_015E': '125<Inc<150',\n",
    "    'B19001_016E': '150<Inc<200',\n",
    "    'B19001_017E': '200<Inc',\n",
    "}\n",
    "\n",
    "# Rename columns in the DataFrame\n",
    "df.rename(columns=column_mapping, inplace=True)\n"
   ]
  },
  {
   "cell_type": "code",
   "execution_count": 144,
   "id": "ee142571-9b3b-4495-b6b4-65d8fd533ef2",
   "metadata": {},
   "outputs": [
    {
     "data": {
      "text/html": [
       "<div>\n",
       "<style scoped>\n",
       "    .dataframe tbody tr th:only-of-type {\n",
       "        vertical-align: middle;\n",
       "    }\n",
       "\n",
       "    .dataframe tbody tr th {\n",
       "        vertical-align: top;\n",
       "    }\n",
       "\n",
       "    .dataframe thead th {\n",
       "        text-align: right;\n",
       "    }\n",
       "</style>\n",
       "<table border=\"1\" class=\"dataframe\">\n",
       "  <thead>\n",
       "    <tr style=\"text-align: right;\">\n",
       "      <th></th>\n",
       "      <th>state</th>\n",
       "      <th>county</th>\n",
       "      <th>tract</th>\n",
       "      <th>NAME</th>\n",
       "      <th>Total_Pop</th>\n",
       "      <th>Total_House</th>\n",
       "      <th>Inc&lt;10</th>\n",
       "      <th>10&lt;Inc&lt;15</th>\n",
       "      <th>15&lt;Inc&lt;20</th>\n",
       "      <th>20&lt;Inc&lt;25</th>\n",
       "      <th>...</th>\n",
       "      <th>35&lt;Inc&lt;40</th>\n",
       "      <th>40&lt;Inc&lt;45</th>\n",
       "      <th>45&lt;Inc&lt;50</th>\n",
       "      <th>50&lt;Inc&lt;60</th>\n",
       "      <th>60&lt;Inc&lt;75</th>\n",
       "      <th>75&lt;Inc&lt;100</th>\n",
       "      <th>100&lt;Inc&lt;125</th>\n",
       "      <th>125&lt;Inc&lt;150</th>\n",
       "      <th>150&lt;Inc&lt;200</th>\n",
       "      <th>200&lt;Inc</th>\n",
       "    </tr>\n",
       "  </thead>\n",
       "  <tbody>\n",
       "    <tr>\n",
       "      <th>0</th>\n",
       "      <td>06</td>\n",
       "      <td>037</td>\n",
       "      <td>101110</td>\n",
       "      <td>Census Tract 1011.10; Los Angeles County; Cali...</td>\n",
       "      <td>4014.0</td>\n",
       "      <td>1551.0</td>\n",
       "      <td>67.0</td>\n",
       "      <td>96.0</td>\n",
       "      <td>33.0</td>\n",
       "      <td>72.0</td>\n",
       "      <td>...</td>\n",
       "      <td>19.0</td>\n",
       "      <td>56.0</td>\n",
       "      <td>96.0</td>\n",
       "      <td>74.0</td>\n",
       "      <td>221.0</td>\n",
       "      <td>102.0</td>\n",
       "      <td>182.0</td>\n",
       "      <td>144.0</td>\n",
       "      <td>123.0</td>\n",
       "      <td>177.0</td>\n",
       "    </tr>\n",
       "  </tbody>\n",
       "</table>\n",
       "<p>1 rows × 22 columns</p>\n",
       "</div>"
      ],
      "text/plain": [
       "  state county   tract                                               NAME  \\\n",
       "0    06    037  101110  Census Tract 1011.10; Los Angeles County; Cali...   \n",
       "\n",
       "   Total_Pop  Total_House  Inc<10  10<Inc<15  15<Inc<20  20<Inc<25  ...  \\\n",
       "0     4014.0       1551.0    67.0       96.0       33.0       72.0  ...   \n",
       "\n",
       "   35<Inc<40  40<Inc<45  45<Inc<50  50<Inc<60  60<Inc<75  75<Inc<100  \\\n",
       "0       19.0       56.0       96.0       74.0      221.0       102.0   \n",
       "\n",
       "   100<Inc<125  125<Inc<150  150<Inc<200  200<Inc  \n",
       "0        182.0        144.0        123.0    177.0  \n",
       "\n",
       "[1 rows x 22 columns]"
      ]
     },
     "execution_count": 144,
     "metadata": {},
     "output_type": "execute_result"
    }
   ],
   "source": [
    "df.head(1)"
   ]
  },
  {
   "cell_type": "code",
   "execution_count": 150,
   "id": "a158b0a3-d1c0-4ffa-b20a-330febcaaca1",
   "metadata": {},
   "outputs": [
    {
     "data": {
      "text/plain": [
       "Index(['state', 'county', 'tract', 'NAME', 'Total_Pop', 'Total_House',\n",
       "       'Inc<10', '10<Inc<15', '15<Inc<20', '20<Inc<25', '25<Inc<30',\n",
       "       '30<Inc<35', '35<Inc<40', '40<Inc<45', '45<Inc<50', '50<Inc<60',\n",
       "       '60<Inc<75', '75<Inc<100', '100<Inc<125', '125<Inc<150', '150<Inc<200',\n",
       "       '200<Inc'],\n",
       "      dtype='object')"
      ]
     },
     "execution_count": 150,
     "metadata": {},
     "output_type": "execute_result"
    }
   ],
   "source": [
    "df.columns"
   ]
  },
  {
   "cell_type": "markdown",
   "id": "fb1ece4c-9ff2-47b4-993f-65271d19c534",
   "metadata": {},
   "source": [
    "## Let's Visualize the Distribution of Household Income In LA County"
   ]
  },
  {
   "cell_type": "code",
   "execution_count": 154,
   "id": "2c1d3b16-1061-4f8c-a9d2-dcb2e1722146",
   "metadata": {},
   "outputs": [
    {
     "data": {
      "application/vnd.plotly.v1+json": {
       "config": {
        "plotlyServerURL": "https://plot.ly"
       },
       "data": [
        {
         "alignmentgroup": "True",
         "hovertemplate": "Income Bracket=%{x}<br>Household Count=%{y}<extra></extra>",
         "legendgroup": "",
         "marker": {
          "color": "#636efa",
          "pattern": {
           "shape": ""
          }
         },
         "name": "",
         "offsetgroup": "",
         "orientation": "v",
         "showlegend": false,
         "textposition": "auto",
         "type": "bar",
         "x": [
          "Inc<10",
          "10<Inc<15",
          "15<Inc<20",
          "20<Inc<25",
          "25<Inc<30",
          "30<Inc<35",
          "35<Inc<40",
          "40<Inc<45",
          "45<Inc<50",
          "50<Inc<60",
          "60<Inc<75",
          "75<Inc<100",
          "100<Inc<125",
          "125<Inc<150",
          "150<Inc<200",
          "200<Inc"
         ],
         "xaxis": "x",
         "y": [
          175325,
          131939,
          96987,
          112130,
          112246,
          108597,
          102732,
          106157,
          102280,
          206730,
          278867,
          411710,
          333917,
          252155,
          329974,
          501347
         ],
         "yaxis": "y"
        }
       ],
       "layout": {
        "autosize": true,
        "barmode": "relative",
        "legend": {
         "tracegroupgap": 0
        },
        "template": {
         "data": {
          "bar": [
           {
            "error_x": {
             "color": "#2a3f5f"
            },
            "error_y": {
             "color": "#2a3f5f"
            },
            "marker": {
             "line": {
              "color": "#E5ECF6",
              "width": 0.5
             },
             "pattern": {
              "fillmode": "overlay",
              "size": 10,
              "solidity": 0.2
             }
            },
            "type": "bar"
           }
          ],
          "barpolar": [
           {
            "marker": {
             "line": {
              "color": "#E5ECF6",
              "width": 0.5
             },
             "pattern": {
              "fillmode": "overlay",
              "size": 10,
              "solidity": 0.2
             }
            },
            "type": "barpolar"
           }
          ],
          "carpet": [
           {
            "aaxis": {
             "endlinecolor": "#2a3f5f",
             "gridcolor": "white",
             "linecolor": "white",
             "minorgridcolor": "white",
             "startlinecolor": "#2a3f5f"
            },
            "baxis": {
             "endlinecolor": "#2a3f5f",
             "gridcolor": "white",
             "linecolor": "white",
             "minorgridcolor": "white",
             "startlinecolor": "#2a3f5f"
            },
            "type": "carpet"
           }
          ],
          "choropleth": [
           {
            "colorbar": {
             "outlinewidth": 0,
             "ticks": ""
            },
            "type": "choropleth"
           }
          ],
          "contour": [
           {
            "colorbar": {
             "outlinewidth": 0,
             "ticks": ""
            },
            "colorscale": [
             [
              0,
              "#0d0887"
             ],
             [
              0.1111111111111111,
              "#46039f"
             ],
             [
              0.2222222222222222,
              "#7201a8"
             ],
             [
              0.3333333333333333,
              "#9c179e"
             ],
             [
              0.4444444444444444,
              "#bd3786"
             ],
             [
              0.5555555555555556,
              "#d8576b"
             ],
             [
              0.6666666666666666,
              "#ed7953"
             ],
             [
              0.7777777777777778,
              "#fb9f3a"
             ],
             [
              0.8888888888888888,
              "#fdca26"
             ],
             [
              1,
              "#f0f921"
             ]
            ],
            "type": "contour"
           }
          ],
          "contourcarpet": [
           {
            "colorbar": {
             "outlinewidth": 0,
             "ticks": ""
            },
            "type": "contourcarpet"
           }
          ],
          "heatmap": [
           {
            "colorbar": {
             "outlinewidth": 0,
             "ticks": ""
            },
            "colorscale": [
             [
              0,
              "#0d0887"
             ],
             [
              0.1111111111111111,
              "#46039f"
             ],
             [
              0.2222222222222222,
              "#7201a8"
             ],
             [
              0.3333333333333333,
              "#9c179e"
             ],
             [
              0.4444444444444444,
              "#bd3786"
             ],
             [
              0.5555555555555556,
              "#d8576b"
             ],
             [
              0.6666666666666666,
              "#ed7953"
             ],
             [
              0.7777777777777778,
              "#fb9f3a"
             ],
             [
              0.8888888888888888,
              "#fdca26"
             ],
             [
              1,
              "#f0f921"
             ]
            ],
            "type": "heatmap"
           }
          ],
          "heatmapgl": [
           {
            "colorbar": {
             "outlinewidth": 0,
             "ticks": ""
            },
            "colorscale": [
             [
              0,
              "#0d0887"
             ],
             [
              0.1111111111111111,
              "#46039f"
             ],
             [
              0.2222222222222222,
              "#7201a8"
             ],
             [
              0.3333333333333333,
              "#9c179e"
             ],
             [
              0.4444444444444444,
              "#bd3786"
             ],
             [
              0.5555555555555556,
              "#d8576b"
             ],
             [
              0.6666666666666666,
              "#ed7953"
             ],
             [
              0.7777777777777778,
              "#fb9f3a"
             ],
             [
              0.8888888888888888,
              "#fdca26"
             ],
             [
              1,
              "#f0f921"
             ]
            ],
            "type": "heatmapgl"
           }
          ],
          "histogram": [
           {
            "marker": {
             "pattern": {
              "fillmode": "overlay",
              "size": 10,
              "solidity": 0.2
             }
            },
            "type": "histogram"
           }
          ],
          "histogram2d": [
           {
            "colorbar": {
             "outlinewidth": 0,
             "ticks": ""
            },
            "colorscale": [
             [
              0,
              "#0d0887"
             ],
             [
              0.1111111111111111,
              "#46039f"
             ],
             [
              0.2222222222222222,
              "#7201a8"
             ],
             [
              0.3333333333333333,
              "#9c179e"
             ],
             [
              0.4444444444444444,
              "#bd3786"
             ],
             [
              0.5555555555555556,
              "#d8576b"
             ],
             [
              0.6666666666666666,
              "#ed7953"
             ],
             [
              0.7777777777777778,
              "#fb9f3a"
             ],
             [
              0.8888888888888888,
              "#fdca26"
             ],
             [
              1,
              "#f0f921"
             ]
            ],
            "type": "histogram2d"
           }
          ],
          "histogram2dcontour": [
           {
            "colorbar": {
             "outlinewidth": 0,
             "ticks": ""
            },
            "colorscale": [
             [
              0,
              "#0d0887"
             ],
             [
              0.1111111111111111,
              "#46039f"
             ],
             [
              0.2222222222222222,
              "#7201a8"
             ],
             [
              0.3333333333333333,
              "#9c179e"
             ],
             [
              0.4444444444444444,
              "#bd3786"
             ],
             [
              0.5555555555555556,
              "#d8576b"
             ],
             [
              0.6666666666666666,
              "#ed7953"
             ],
             [
              0.7777777777777778,
              "#fb9f3a"
             ],
             [
              0.8888888888888888,
              "#fdca26"
             ],
             [
              1,
              "#f0f921"
             ]
            ],
            "type": "histogram2dcontour"
           }
          ],
          "mesh3d": [
           {
            "colorbar": {
             "outlinewidth": 0,
             "ticks": ""
            },
            "type": "mesh3d"
           }
          ],
          "parcoords": [
           {
            "line": {
             "colorbar": {
              "outlinewidth": 0,
              "ticks": ""
             }
            },
            "type": "parcoords"
           }
          ],
          "pie": [
           {
            "automargin": true,
            "type": "pie"
           }
          ],
          "scatter": [
           {
            "fillpattern": {
             "fillmode": "overlay",
             "size": 10,
             "solidity": 0.2
            },
            "type": "scatter"
           }
          ],
          "scatter3d": [
           {
            "line": {
             "colorbar": {
              "outlinewidth": 0,
              "ticks": ""
             }
            },
            "marker": {
             "colorbar": {
              "outlinewidth": 0,
              "ticks": ""
             }
            },
            "type": "scatter3d"
           }
          ],
          "scattercarpet": [
           {
            "marker": {
             "colorbar": {
              "outlinewidth": 0,
              "ticks": ""
             }
            },
            "type": "scattercarpet"
           }
          ],
          "scattergeo": [
           {
            "marker": {
             "colorbar": {
              "outlinewidth": 0,
              "ticks": ""
             }
            },
            "type": "scattergeo"
           }
          ],
          "scattergl": [
           {
            "marker": {
             "colorbar": {
              "outlinewidth": 0,
              "ticks": ""
             }
            },
            "type": "scattergl"
           }
          ],
          "scattermapbox": [
           {
            "marker": {
             "colorbar": {
              "outlinewidth": 0,
              "ticks": ""
             }
            },
            "type": "scattermapbox"
           }
          ],
          "scatterpolar": [
           {
            "marker": {
             "colorbar": {
              "outlinewidth": 0,
              "ticks": ""
             }
            },
            "type": "scatterpolar"
           }
          ],
          "scatterpolargl": [
           {
            "marker": {
             "colorbar": {
              "outlinewidth": 0,
              "ticks": ""
             }
            },
            "type": "scatterpolargl"
           }
          ],
          "scatterternary": [
           {
            "marker": {
             "colorbar": {
              "outlinewidth": 0,
              "ticks": ""
             }
            },
            "type": "scatterternary"
           }
          ],
          "surface": [
           {
            "colorbar": {
             "outlinewidth": 0,
             "ticks": ""
            },
            "colorscale": [
             [
              0,
              "#0d0887"
             ],
             [
              0.1111111111111111,
              "#46039f"
             ],
             [
              0.2222222222222222,
              "#7201a8"
             ],
             [
              0.3333333333333333,
              "#9c179e"
             ],
             [
              0.4444444444444444,
              "#bd3786"
             ],
             [
              0.5555555555555556,
              "#d8576b"
             ],
             [
              0.6666666666666666,
              "#ed7953"
             ],
             [
              0.7777777777777778,
              "#fb9f3a"
             ],
             [
              0.8888888888888888,
              "#fdca26"
             ],
             [
              1,
              "#f0f921"
             ]
            ],
            "type": "surface"
           }
          ],
          "table": [
           {
            "cells": {
             "fill": {
              "color": "#EBF0F8"
             },
             "line": {
              "color": "white"
             }
            },
            "header": {
             "fill": {
              "color": "#C8D4E3"
             },
             "line": {
              "color": "white"
             }
            },
            "type": "table"
           }
          ]
         },
         "layout": {
          "annotationdefaults": {
           "arrowcolor": "#2a3f5f",
           "arrowhead": 0,
           "arrowwidth": 1
          },
          "autotypenumbers": "strict",
          "coloraxis": {
           "colorbar": {
            "outlinewidth": 0,
            "ticks": ""
           }
          },
          "colorscale": {
           "diverging": [
            [
             0,
             "#8e0152"
            ],
            [
             0.1,
             "#c51b7d"
            ],
            [
             0.2,
             "#de77ae"
            ],
            [
             0.3,
             "#f1b6da"
            ],
            [
             0.4,
             "#fde0ef"
            ],
            [
             0.5,
             "#f7f7f7"
            ],
            [
             0.6,
             "#e6f5d0"
            ],
            [
             0.7,
             "#b8e186"
            ],
            [
             0.8,
             "#7fbc41"
            ],
            [
             0.9,
             "#4d9221"
            ],
            [
             1,
             "#276419"
            ]
           ],
           "sequential": [
            [
             0,
             "#0d0887"
            ],
            [
             0.1111111111111111,
             "#46039f"
            ],
            [
             0.2222222222222222,
             "#7201a8"
            ],
            [
             0.3333333333333333,
             "#9c179e"
            ],
            [
             0.4444444444444444,
             "#bd3786"
            ],
            [
             0.5555555555555556,
             "#d8576b"
            ],
            [
             0.6666666666666666,
             "#ed7953"
            ],
            [
             0.7777777777777778,
             "#fb9f3a"
            ],
            [
             0.8888888888888888,
             "#fdca26"
            ],
            [
             1,
             "#f0f921"
            ]
           ],
           "sequentialminus": [
            [
             0,
             "#0d0887"
            ],
            [
             0.1111111111111111,
             "#46039f"
            ],
            [
             0.2222222222222222,
             "#7201a8"
            ],
            [
             0.3333333333333333,
             "#9c179e"
            ],
            [
             0.4444444444444444,
             "#bd3786"
            ],
            [
             0.5555555555555556,
             "#d8576b"
            ],
            [
             0.6666666666666666,
             "#ed7953"
            ],
            [
             0.7777777777777778,
             "#fb9f3a"
            ],
            [
             0.8888888888888888,
             "#fdca26"
            ],
            [
             1,
             "#f0f921"
            ]
           ]
          },
          "colorway": [
           "#636efa",
           "#EF553B",
           "#00cc96",
           "#ab63fa",
           "#FFA15A",
           "#19d3f3",
           "#FF6692",
           "#B6E880",
           "#FF97FF",
           "#FECB52"
          ],
          "font": {
           "color": "#2a3f5f"
          },
          "geo": {
           "bgcolor": "white",
           "lakecolor": "white",
           "landcolor": "#E5ECF6",
           "showlakes": true,
           "showland": true,
           "subunitcolor": "white"
          },
          "hoverlabel": {
           "align": "left"
          },
          "hovermode": "closest",
          "mapbox": {
           "style": "light"
          },
          "paper_bgcolor": "white",
          "plot_bgcolor": "#E5ECF6",
          "polar": {
           "angularaxis": {
            "gridcolor": "white",
            "linecolor": "white",
            "ticks": ""
           },
           "bgcolor": "#E5ECF6",
           "radialaxis": {
            "gridcolor": "white",
            "linecolor": "white",
            "ticks": ""
           }
          },
          "scene": {
           "xaxis": {
            "backgroundcolor": "#E5ECF6",
            "gridcolor": "white",
            "gridwidth": 2,
            "linecolor": "white",
            "showbackground": true,
            "ticks": "",
            "zerolinecolor": "white"
           },
           "yaxis": {
            "backgroundcolor": "#E5ECF6",
            "gridcolor": "white",
            "gridwidth": 2,
            "linecolor": "white",
            "showbackground": true,
            "ticks": "",
            "zerolinecolor": "white"
           },
           "zaxis": {
            "backgroundcolor": "#E5ECF6",
            "gridcolor": "white",
            "gridwidth": 2,
            "linecolor": "white",
            "showbackground": true,
            "ticks": "",
            "zerolinecolor": "white"
           }
          },
          "shapedefaults": {
           "line": {
            "color": "#2a3f5f"
           }
          },
          "ternary": {
           "aaxis": {
            "gridcolor": "white",
            "linecolor": "white",
            "ticks": ""
           },
           "baxis": {
            "gridcolor": "white",
            "linecolor": "white",
            "ticks": ""
           },
           "bgcolor": "#E5ECF6",
           "caxis": {
            "gridcolor": "white",
            "linecolor": "white",
            "ticks": ""
           }
          },
          "title": {
           "x": 0.05
          },
          "xaxis": {
           "automargin": true,
           "gridcolor": "white",
           "linecolor": "white",
           "ticks": "",
           "title": {
            "standoff": 15
           },
           "zerolinecolor": "white",
           "zerolinewidth": 2
          },
          "yaxis": {
           "automargin": true,
           "gridcolor": "white",
           "linecolor": "white",
           "ticks": "",
           "title": {
            "standoff": 15
           },
           "zerolinecolor": "white",
           "zerolinewidth": 2
          }
         }
        },
        "title": {
         "text": "Distribution of Household Income In LA County"
        },
        "xaxis": {
         "anchor": "y",
         "autorange": true,
         "domain": [
          0,
          1
         ],
         "range": [
          -0.5,
          15.5
         ],
         "showspikes": false,
         "tickangle": -45,
         "title": {
          "text": "Income Bracket"
         },
         "type": "category"
        },
        "yaxis": {
         "anchor": "x",
         "autorange": true,
         "domain": [
          0,
          1
         ],
         "range": [
          0,
          527733.6842105263
         ],
         "showspikes": false,
         "title": {
          "text": "Household Count"
         },
         "type": "linear"
        }
       }
      },
      "image/png": "[encoded data removed]",
      "text/html": [
       "<div>                            <div id=\"c7af1bbd-4675-4ce2-8d56-d7e79420aacf\" class=\"plotly-graph-div\" style=\"height:525px; width:100%;\"></div>            <script type=\"text/javascript\">                require([\"plotly\"], function(Plotly) {                    window.PLOTLYENV=window.PLOTLYENV || {};                                    if (document.getElementById(\"c7af1bbd-4675-4ce2-8d56-d7e79420aacf\")) {                    Plotly.newPlot(                        \"c7af1bbd-4675-4ce2-8d56-d7e79420aacf\",                        [{\"alignmentgroup\":\"True\",\"hovertemplate\":\"Income Bracket=%{x}<br>Household Count=%{y}<extra></extra>\",\"legendgroup\":\"\",\"marker\":{\"color\":\"#636efa\",\"pattern\":{\"shape\":\"\"}},\"name\":\"\",\"offsetgroup\":\"\",\"orientation\":\"v\",\"showlegend\":false,\"textposition\":\"auto\",\"x\":[\"Inc<10\",\"10<Inc<15\",\"15<Inc<20\",\"20<Inc<25\",\"25<Inc<30\",\"30<Inc<35\",\"35<Inc<40\",\"40<Inc<45\",\"45<Inc<50\",\"50<Inc<60\",\"60<Inc<75\",\"75<Inc<100\",\"100<Inc<125\",\"125<Inc<150\",\"150<Inc<200\",\"200<Inc\"],\"xaxis\":\"x\",\"y\":[175325.0,131939.0,96987.0,112130.0,112246.0,108597.0,102732.0,106157.0,102280.0,206730.0,278867.0,411710.0,333917.0,252155.0,329974.0,501347.0],\"yaxis\":\"y\",\"type\":\"bar\"}],                        {\"template\":{\"data\":{\"histogram2dcontour\":[{\"type\":\"histogram2dcontour\",\"colorbar\":{\"outlinewidth\":0,\"ticks\":\"\"},\"colorscale\":[[0.0,\"#0d0887\"],[0.1111111111111111,\"#46039f\"],[0.2222222222222222,\"#7201a8\"],[0.3333333333333333,\"#9c179e\"],[0.4444444444444444,\"#bd3786\"],[0.5555555555555556,\"#d8576b\"],[0.6666666666666666,\"#ed7953\"],[0.7777777777777778,\"#fb9f3a\"],[0.8888888888888888,\"#fdca26\"],[1.0,\"#f0f921\"]]}],\"choropleth\":[{\"type\":\"choropleth\",\"colorbar\":{\"outlinewidth\":0,\"ticks\":\"\"}}],\"histogram2d\":[{\"type\":\"histogram2d\",\"colorbar\":{\"outlinewidth\":0,\"ticks\":\"\"},\"colorscale\":[[0.0,\"#0d0887\"],[0.1111111111111111,\"#46039f\"],[0.2222222222222222,\"#7201a8\"],[0.3333333333333333,\"#9c179e\"],[0.4444444444444444,\"#bd3786\"],[0.5555555555555556,\"#d8576b\"],[0.6666666666666666,\"#ed7953\"],[0.7777777777777778,\"#fb9f3a\"],[0.8888888888888888,\"#fdca26\"],[1.0,\"#f0f921\"]]}],\"heatmap\":[{\"type\":\"heatmap\",\"colorbar\":{\"outlinewidth\":0,\"ticks\":\"\"},\"colorscale\":[[0.0,\"#0d0887\"],[0.1111111111111111,\"#46039f\"],[0.2222222222222222,\"#7201a8\"],[0.3333333333333333,\"#9c179e\"],[0.4444444444444444,\"#bd3786\"],[0.5555555555555556,\"#d8576b\"],[0.6666666666666666,\"#ed7953\"],[0.7777777777777778,\"#fb9f3a\"],[0.8888888888888888,\"#fdca26\"],[1.0,\"#f0f921\"]]}],\"heatmapgl\":[{\"type\":\"heatmapgl\",\"colorbar\":{\"outlinewidth\":0,\"ticks\":\"\"},\"colorscale\":[[0.0,\"#0d0887\"],[0.1111111111111111,\"#46039f\"],[0.2222222222222222,\"#7201a8\"],[0.3333333333333333,\"#9c179e\"],[0.4444444444444444,\"#bd3786\"],[0.5555555555555556,\"#d8576b\"],[0.6666666666666666,\"#ed7953\"],[0.7777777777777778,\"#fb9f3a\"],[0.8888888888888888,\"#fdca26\"],[1.0,\"#f0f921\"]]}],\"contourcarpet\":[{\"type\":\"contourcarpet\",\"colorbar\":{\"outlinewidth\":0,\"ticks\":\"\"}}],\"contour\":[{\"type\":\"contour\",\"colorbar\":{\"outlinewidth\":0,\"ticks\":\"\"},\"colorscale\":[[0.0,\"#0d0887\"],[0.1111111111111111,\"#46039f\"],[0.2222222222222222,\"#7201a8\"],[0.3333333333333333,\"#9c179e\"],[0.4444444444444444,\"#bd3786\"],[0.5555555555555556,\"#d8576b\"],[0.6666666666666666,\"#ed7953\"],[0.7777777777777778,\"#fb9f3a\"],[0.8888888888888888,\"#fdca26\"],[1.0,\"#f0f921\"]]}],\"surface\":[{\"type\":\"surface\",\"colorbar\":{\"outlinewidth\":0,\"ticks\":\"\"},\"colorscale\":[[0.0,\"#0d0887\"],[0.1111111111111111,\"#46039f\"],[0.2222222222222222,\"#7201a8\"],[0.3333333333333333,\"#9c179e\"],[0.4444444444444444,\"#bd3786\"],[0.5555555555555556,\"#d8576b\"],[0.6666666666666666,\"#ed7953\"],[0.7777777777777778,\"#fb9f3a\"],[0.8888888888888888,\"#fdca26\"],[1.0,\"#f0f921\"]]}],\"mesh3d\":[{\"type\":\"mesh3d\",\"colorbar\":{\"outlinewidth\":0,\"ticks\":\"\"}}],\"scatter\":[{\"fillpattern\":{\"fillmode\":\"overlay\",\"size\":10,\"solidity\":0.2},\"type\":\"scatter\"}],\"parcoords\":[{\"type\":\"parcoords\",\"line\":{\"colorbar\":{\"outlinewidth\":0,\"ticks\":\"\"}}}],\"scatterpolargl\":[{\"type\":\"scatterpolargl\",\"marker\":{\"colorbar\":{\"outlinewidth\":0,\"ticks\":\"\"}}}],\"bar\":[{\"error_x\":{\"color\":\"#2a3f5f\"},\"error_y\":{\"color\":\"#2a3f5f\"},\"marker\":{\"line\":{\"color\":\"#E5ECF6\",\"width\":0.5},\"pattern\":{\"fillmode\":\"overlay\",\"size\":10,\"solidity\":0.2}},\"type\":\"bar\"}],\"scattergeo\":[{\"type\":\"scattergeo\",\"marker\":{\"colorbar\":{\"outlinewidth\":0,\"ticks\":\"\"}}}],\"scatterpolar\":[{\"type\":\"scatterpolar\",\"marker\":{\"colorbar\":{\"outlinewidth\":0,\"ticks\":\"\"}}}],\"histogram\":[{\"marker\":{\"pattern\":{\"fillmode\":\"overlay\",\"size\":10,\"solidity\":0.2}},\"type\":\"histogram\"}],\"scattergl\":[{\"type\":\"scattergl\",\"marker\":{\"colorbar\":{\"outlinewidth\":0,\"ticks\":\"\"}}}],\"scatter3d\":[{\"type\":\"scatter3d\",\"line\":{\"colorbar\":{\"outlinewidth\":0,\"ticks\":\"\"}},\"marker\":{\"colorbar\":{\"outlinewidth\":0,\"ticks\":\"\"}}}],\"scattermapbox\":[{\"type\":\"scattermapbox\",\"marker\":{\"colorbar\":{\"outlinewidth\":0,\"ticks\":\"\"}}}],\"scatterternary\":[{\"type\":\"scatterternary\",\"marker\":{\"colorbar\":{\"outlinewidth\":0,\"ticks\":\"\"}}}],\"scattercarpet\":[{\"type\":\"scattercarpet\",\"marker\":{\"colorbar\":{\"outlinewidth\":0,\"ticks\":\"\"}}}],\"carpet\":[{\"aaxis\":{\"endlinecolor\":\"#2a3f5f\",\"gridcolor\":\"white\",\"linecolor\":\"white\",\"minorgridcolor\":\"white\",\"startlinecolor\":\"#2a3f5f\"},\"baxis\":{\"endlinecolor\":\"#2a3f5f\",\"gridcolor\":\"white\",\"linecolor\":\"white\",\"minorgridcolor\":\"white\",\"startlinecolor\":\"#2a3f5f\"},\"type\":\"carpet\"}],\"table\":[{\"cells\":{\"fill\":{\"color\":\"#EBF0F8\"},\"line\":{\"color\":\"white\"}},\"header\":{\"fill\":{\"color\":\"#C8D4E3\"},\"line\":{\"color\":\"white\"}},\"type\":\"table\"}],\"barpolar\":[{\"marker\":{\"line\":{\"color\":\"#E5ECF6\",\"width\":0.5},\"pattern\":{\"fillmode\":\"overlay\",\"size\":10,\"solidity\":0.2}},\"type\":\"barpolar\"}],\"pie\":[{\"automargin\":true,\"type\":\"pie\"}]},\"layout\":{\"autotypenumbers\":\"strict\",\"colorway\":[\"#636efa\",\"#EF553B\",\"#00cc96\",\"#ab63fa\",\"#FFA15A\",\"#19d3f3\",\"#FF6692\",\"#B6E880\",\"#FF97FF\",\"#FECB52\"],\"font\":{\"color\":\"#2a3f5f\"},\"hovermode\":\"closest\",\"hoverlabel\":{\"align\":\"left\"},\"paper_bgcolor\":\"white\",\"plot_bgcolor\":\"#E5ECF6\",\"polar\":{\"bgcolor\":\"#E5ECF6\",\"angularaxis\":{\"gridcolor\":\"white\",\"linecolor\":\"white\",\"ticks\":\"\"},\"radialaxis\":{\"gridcolor\":\"white\",\"linecolor\":\"white\",\"ticks\":\"\"}},\"ternary\":{\"bgcolor\":\"#E5ECF6\",\"aaxis\":{\"gridcolor\":\"white\",\"linecolor\":\"white\",\"ticks\":\"\"},\"baxis\":{\"gridcolor\":\"white\",\"linecolor\":\"white\",\"ticks\":\"\"},\"caxis\":{\"gridcolor\":\"white\",\"linecolor\":\"white\",\"ticks\":\"\"}},\"coloraxis\":{\"colorbar\":{\"outlinewidth\":0,\"ticks\":\"\"}},\"colorscale\":{\"sequential\":[[0.0,\"#0d0887\"],[0.1111111111111111,\"#46039f\"],[0.2222222222222222,\"#7201a8\"],[0.3333333333333333,\"#9c179e\"],[0.4444444444444444,\"#bd3786\"],[0.5555555555555556,\"#d8576b\"],[0.6666666666666666,\"#ed7953\"],[0.7777777777777778,\"#fb9f3a\"],[0.8888888888888888,\"#fdca26\"],[1.0,\"#f0f921\"]],\"sequentialminus\":[[0.0,\"#0d0887\"],[0.1111111111111111,\"#46039f\"],[0.2222222222222222,\"#7201a8\"],[0.3333333333333333,\"#9c179e\"],[0.4444444444444444,\"#bd3786\"],[0.5555555555555556,\"#d8576b\"],[0.6666666666666666,\"#ed7953\"],[0.7777777777777778,\"#fb9f3a\"],[0.8888888888888888,\"#fdca26\"],[1.0,\"#f0f921\"]],\"diverging\":[[0,\"#8e0152\"],[0.1,\"#c51b7d\"],[0.2,\"#de77ae\"],[0.3,\"#f1b6da\"],[0.4,\"#fde0ef\"],[0.5,\"#f7f7f7\"],[0.6,\"#e6f5d0\"],[0.7,\"#b8e186\"],[0.8,\"#7fbc41\"],[0.9,\"#4d9221\"],[1,\"#276419\"]]},\"xaxis\":{\"gridcolor\":\"white\",\"linecolor\":\"white\",\"ticks\":\"\",\"title\":{\"standoff\":15},\"zerolinecolor\":\"white\",\"automargin\":true,\"zerolinewidth\":2},\"yaxis\":{\"gridcolor\":\"white\",\"linecolor\":\"white\",\"ticks\":\"\",\"title\":{\"standoff\":15},\"zerolinecolor\":\"white\",\"automargin\":true,\"zerolinewidth\":2},\"scene\":{\"xaxis\":{\"backgroundcolor\":\"#E5ECF6\",\"gridcolor\":\"white\",\"linecolor\":\"white\",\"showbackground\":true,\"ticks\":\"\",\"zerolinecolor\":\"white\",\"gridwidth\":2},\"yaxis\":{\"backgroundcolor\":\"#E5ECF6\",\"gridcolor\":\"white\",\"linecolor\":\"white\",\"showbackground\":true,\"ticks\":\"\",\"zerolinecolor\":\"white\",\"gridwidth\":2},\"zaxis\":{\"backgroundcolor\":\"#E5ECF6\",\"gridcolor\":\"white\",\"linecolor\":\"white\",\"showbackground\":true,\"ticks\":\"\",\"zerolinecolor\":\"white\",\"gridwidth\":2}},\"shapedefaults\":{\"line\":{\"color\":\"#2a3f5f\"}},\"annotationdefaults\":{\"arrowcolor\":\"#2a3f5f\",\"arrowhead\":0,\"arrowwidth\":1},\"geo\":{\"bgcolor\":\"white\",\"landcolor\":\"#E5ECF6\",\"subunitcolor\":\"white\",\"showland\":true,\"showlakes\":true,\"lakecolor\":\"white\"},\"title\":{\"x\":0.05},\"mapbox\":{\"style\":\"light\"}}},\"xaxis\":{\"anchor\":\"y\",\"domain\":[0.0,1.0],\"title\":{\"text\":\"Income Bracket\"},\"tickangle\":-45},\"yaxis\":{\"anchor\":\"x\",\"domain\":[0.0,1.0],\"title\":{\"text\":\"Household Count\"}},\"legend\":{\"tracegroupgap\":0},\"title\":{\"text\":\"Distribution of Household Income In LA County\"},\"barmode\":\"relative\"},                        {\"responsive\": true}                    ).then(function(){\n",
       "                            \n",
       "var gd = document.getElementById('c7af1bbd-4675-4ce2-8d56-d7e79420aacf');\n",
       "var x = new MutationObserver(function (mutations, observer) {{\n",
       "        var display = window.getComputedStyle(gd).display;\n",
       "        if (!display || display === 'none') {{\n",
       "            console.log([gd, 'removed!']);\n",
       "            Plotly.purge(gd);\n",
       "            observer.disconnect();\n",
       "        }}\n",
       "}});\n",
       "\n",
       "// Listen for the removal of the full notebook cells\n",
       "var notebookContainer = gd.closest('#notebook-container');\n",
       "if (notebookContainer) {{\n",
       "    x.observe(notebookContainer, {childList: true});\n",
       "}}\n",
       "\n",
       "// Listen for the clearing of the current output cell\n",
       "var outputEl = gd.closest('.output');\n",
       "if (outputEl) {{\n",
       "    x.observe(outputEl, {childList: true});\n",
       "}}\n",
       "\n",
       "                        })                };                });            </script>        </div>"
      ]
     },
     "metadata": {},
     "output_type": "display_data"
    }
   ],
   "source": [
    "# Sum each income bracket across all tracts to get totals for the entire county\n",
    "income_totals = df[['Inc<10', '10<Inc<15', '15<Inc<20', '20<Inc<25', '25<Inc<30',\n",
    "                    '30<Inc<35', '35<Inc<40', '40<Inc<45', '45<Inc<50', '50<Inc<60',\n",
    "                    '60<Inc<75', '75<Inc<100', '100<Inc<125', '125<Inc<150', '150<Inc<200',\n",
    "                    '200<Inc']].sum()\n",
    "\n",
    "# Convert totals to a DataFrame for easy plotting\n",
    "income_totals_df = income_totals.reset_index()\n",
    "income_totals_df.columns = ['Income_Bracket', 'Household_Count']\n",
    "\n",
    "\n",
    "# Plot a bar chart using Plotly Express\n",
    "fig = px.bar(income_totals_df, x='Income_Bracket', y='Household_Count',\n",
    "             title=\"Distribution of Household Income In LA County\",\n",
    "             labels={'Income_Bracket': 'Income Bracket', 'Household_Count': 'Household Count'})\n",
    "\n",
    "# Customize layout for readability\n",
    "fig.update_layout(xaxis_tickangle=-45)  # Tilt x-axis labels for readability\n",
    "fig.show()\n"
   ]
  },
  {
   "cell_type": "markdown",
   "id": "b2977e6e-7cef-4b30-a5aa-a7de1333caac",
   "metadata": {},
   "source": [
    "# Now let's modify the code to add Race and Latino Demographics and examine several years\r\n",
    "\r\n",
    "After running the cell below, you will be prompted to indicate the range of time you wish to examine. **Remember that the wider your time frame, the longer it will take to download the data from the census API. The census API might run into issues during this time.** I recommend starting with a small range (3-6 years max). That said, do your thing, have fun, break the code, rahhhh!\r\n",
    "\r\n",
    "If you are requesting more data, i.e., a wider time frame, and you run into errors, DON'T FRET. These errors can usually be dealt with by modifying the code—feel free to try this process, referred to as debugging.  \r\n",
    "*Fun fact:* it's called debugging in reference to the story behind an early computer that broke down back in ancient times (jokes, around the 1950s). The root cause? A lil'bug.\r\n"
   ]
  },
  {
   "cell_type": "markdown",
   "id": "8d46ba06-07ef-4b15-9602-72ff7516f41d",
   "metadata": {},
   "source": [
    "## download"
   ]
  },
  {
   "cell_type": "code",
   "execution_count": 185,
   "id": "b71b28bf-9a96-4ab0-83a8-f0a54c32b69d",
   "metadata": {},
   "outputs": [
    {
     "name": "stdin",
     "output_type": "stream",
     "text": [
      "Enter the start year:  2018\n",
      "Enter the end year:  2022\n"
     ]
    },
    {
     "name": "stderr",
     "output_type": "stream",
     "text": [
      "Loading data by year: 100%|██████████| 5/5 [00:08<00:00,  1.75s/it]\n"
     ]
    }
   ],
   "source": [
    "# Define the variables we want to retrieve\n",
    "vars = (\n",
    "    'NAME',  # Name of the tract\n",
    "    'B01003_001E', # Total population\n",
    "    'B19001_001E', # Total households\n",
    "    'B19001_002E', # Income Under 10k\n",
    "    'B19001_003E', # Income Under 15k\n",
    "    'B19001_004E', # Income Under 20k\n",
    "    'B19001_005E', # Income Under 25k\n",
    "    'B19001_006E', # Income Under 30k\n",
    "    'B19001_007E', # Income Under 35k\n",
    "    'B19001_008E', # Income Under 40k\n",
    "    'B19001_009E', # Income Under 45k\n",
    "    'B19001_010E', # Income Under 50k\n",
    "    'B19001_011E', # Income Under 60k\n",
    "    'B19001_012E', # Income Under 75k\n",
    "    'B19001_013E', # Income Under 100k\n",
    "    'B19001_014E', # Income Under 125k\n",
    "    'B19001_015E', # Income Under 150k\n",
    "    'B19001_016E', # Income Under 200k\n",
    "    'B19001_017E',  # Income 200k And Over\n",
    "    'B02001_001E', # Total population by race\n",
    "    'B02001_002E', # White\n",
    "    'B02001_003E', # Black\n",
    "    'B02001_004E', # Native American\n",
    "    'B02001_005E', # Asian\n",
    "    'B02001_006E', # Native Hawaiian/Pacific Islander\n",
    "    'B02001_007E', # Other\n",
    "    'B02001_008E', # Two or more races\n",
    "    'B02001_009E', # Two or more with Other race\n",
    "    'B02001_010E', # Two or more with no Other race/Three or more\n",
    "    'B03002_012E', # Latino\n",
    "    'B03002_013E', # Latino White\n",
    "    'B03002_014E', # Latino Black\n",
    "    'B03002_015E', # Latino Native American\n",
    "    'B03002_016E', # Latino Asian\n",
    "    'B03002_017E', # Latino Native Hawaiian/Pacific Islander\n",
    "    'B03002_018E', # Latino Other\n",
    "    'B03002_019E', # Latino Two or more races\n",
    ")\n",
    "\n",
    "# Initialize an empty list to collect data for each year\n",
    "data_all_years = []\n",
    "\n",
    "# Ask the user for the start and end year\n",
    "start_year = int(input(\"Enter the start year: \"))\n",
    "end_year = int(input(\"Enter the end year: \"))\n",
    "\n",
    "# Check if the end year is valid\n",
    "if end_year > 2022:\n",
    "    print(\"Error: The end year can only be 2022 or earlier.\")\n",
    "else:\n",
    "    # Use tqdm to show progress for each year in the specified range\n",
    "    for year in tqdm(range(start_year, end_year + 1), desc=\"Loading data by year\"):\n",
    "        # Retrieve data for the specified year\n",
    "        year_data = c.acs5.state_county_tract(\n",
    "            fields=vars,\n",
    "            state_fips=states.CA.fips,\n",
    "            county_fips=\"037\",\n",
    "            tract=\"*\",\n",
    "            year=year\n",
    "        )\n",
    "\n",
    "        # Add the year as a new column in each record\n",
    "        for record in year_data:\n",
    "            record['year'] = year\n",
    "\n",
    "        # Append the yearly data to the list\n",
    "        data_all_years.extend(year_data)\n",
    "\n",
    "    # Convert the list of records to a DataFrame\n",
    "    df = pd.DataFrame(data_all_years)\n",
    "\n",
    "columns_order = ['state', 'county', 'tract', 'year'] + [col for col in df.columns if col not in ['year','state', 'county', 'tract']]\n",
    "df = df[columns_order]\n",
    "\n",
    "# Dictionary mapping census codes to descriptions\n",
    "column_mapping = {\n",
    "    'B01003_001E': 'Total_Pop',\n",
    "    \n",
    "    # Income Brackets\n",
    "    'B19001_001E': 'Total_House',\n",
    "    'B19001_002E': 'Inc<10',\n",
    "    'B19001_003E': '10<Inc<15',\n",
    "    'B19001_004E': '15<Inc<20',\n",
    "    'B19001_005E': '20<Inc<25',\n",
    "    'B19001_006E': '25<Inc<30',\n",
    "    'B19001_007E': '30<Inc<35',\n",
    "    'B19001_008E': '35<Inc<40',\n",
    "    'B19001_009E': '40<Inc<45',\n",
    "    'B19001_010E': '45<Inc<50',\n",
    "    'B19001_011E': '50<Inc<60',\n",
    "    'B19001_012E': '60<Inc<75',\n",
    "    'B19001_013E': '75<Inc<100',\n",
    "    'B19001_014E': '100<Inc<125',\n",
    "    'B19001_015E': '125<Inc<150',\n",
    "    'B19001_016E': '150<Inc<200',\n",
    "    'B19001_017E': '200<Inc',\n",
    "\n",
    "\n",
    "    # Race & Latino\n",
    "    'B02001_001E': 'Total_Race',\n",
    "    'B02001_002E': 'White',\n",
    "    'B02001_003E': 'Black',\n",
    "    'B02001_004E': 'NaAm',\n",
    "    'B02001_005E': 'Asian',\n",
    "    'B02001_006E': 'NaHaw_PacificIs',\n",
    "    'B02001_007E': 'Other_Race',\n",
    "    'B02001_008E': 'TwoPlus_Race',\n",
    "    'B02001_009E': 'TwoPlus_Other',\n",
    "    'B02001_010E': 'TwoPlusNoOther_ThreePlus',\n",
    "\n",
    "    'B03002_012E': 'Latino',\n",
    "    'B03002_013E': 'Latino_White',\n",
    "    'B03002_014E': 'Latino_Black',\n",
    "    'B03002_015E': 'Latino_NaAm',\n",
    "    'B03002_016E': 'Latino_Asian',\n",
    "    'B03002_017E': 'Latino_NaHaw_PacificIs',\n",
    "    'B03002_018E': 'Latino_Other',\n",
    "    'B03002_019E': 'Latino_TwoPlus',\n",
    "}\n",
    "\n",
    "# Rename columns in the DataFrame\n",
    "df.rename(columns=column_mapping, inplace=True)"
   ]
  },
  {
   "cell_type": "markdown",
   "id": "11639679-b372-465f-a3a9-8942cf853c24",
   "metadata": {},
   "source": [
    "## visuzalize"
   ]
  },
  {
   "cell_type": "code",
   "execution_count": 237,
   "id": "f3584add-6fe6-47b1-89f3-e1bcdc06fec1",
   "metadata": {},
   "outputs": [
    {
     "data": {
      "application/vnd.jupyter.widget-view+json": {
       "model_id": "9754fb0adc0342fd9d63d4fd7ed869e3",
       "version_major": 2,
       "version_minor": 0
      },
      "text/plain": [
       "interactive(children=(IntSlider(value=2018, description='Year:', layout=Layout(width='1000px'), max=2022, min=…"
      ]
     },
     "execution_count": 237,
     "metadata": {},
     "output_type": "execute_result"
    }
   ],
   "source": [
    "# Income columns for the income brackets\n",
    "income_columns = ['Inc<10', '10<Inc<15', '15<Inc<20', '20<Inc<25', '25<Inc<30',\n",
    "                  '30<Inc<35', '35<Inc<40', '40<Inc<45', '45<Inc<50', '50<Inc<60',\n",
    "                  '60<Inc<75', '75<Inc<100', '100<Inc<125', '125<Inc<150', '150<Inc<200',\n",
    "                  '200<Inc']\n",
    "\n",
    "# Define the races to compare\n",
    "race_columns = ['White', 'Black', 'NaAm', 'Asian', 'NaHaw_PacificIs', 'Other_Race',\n",
    "                'TwoPlus_Race', 'Latino','Latino_White','Latino_Black','Latino_NaAm',\n",
    "                'Latino_Asian','Latino_NaHaw_PacificIs','Latino_Other','Latino_TwoPlus']\n",
    "\n",
    "# Function to aggregate data by race and income bracket for a specific year\n",
    "def calculate_household_counts_by_race(df, race, year):\n",
    "    # Filter the data for the selected year\n",
    "    year_data = df[df['year'] == year]\n",
    "    \n",
    "    # Create a DataFrame to hold the counts of households in each income bracket for the selected race\n",
    "    household_counts = {income_bracket: year_data[year_data[race] > 0][income_bracket].sum() \n",
    "                        for income_bracket in income_columns}\n",
    "    \n",
    "    # Convert to a DataFrame for plotting\n",
    "    return pd.DataFrame(list(household_counts.items()), columns=['Income_Bracket', 'Household_Count'])\n",
    "\n",
    "# Create a Plotly Express bar chart for the given year and race\n",
    "def create_income_bar_chart(df, race, year):\n",
    "    # Get the household counts for the selected race and year\n",
    "    household_counts_df = calculate_household_counts_by_race(df, race, year)\n",
    "    \n",
    "    # Create a bar chart\n",
    "    fig = px.bar(household_counts_df, x='Income_Bracket', y='Household_Count',\n",
    "                 title=f'{race} Household Distribution by Income Bracket ({year})',\n",
    "                 labels={'Income_Bracket': 'Income Bracket', 'Household_Count': 'Household Count'})\n",
    "    \n",
    "    # Customize the layout\n",
    "    fig.update_layout(xaxis_tickangle=-45)\n",
    "    return fig\n",
    "\n",
    "# Create the interactive plot with a slider for year and dropdown for race\n",
    "def update_plots(year, demographic_category1, demographic_category2):\n",
    "    # Create the subplot layout (2 plots side by side)\n",
    "    fig = make_subplots(rows=1, cols=2, subplot_titles=[f'{demographic_category1} Distribution', f'{demographic_category2} Distribution'])\n",
    "    \n",
    "    # Create the first bar chart for demographic_category1 (race1)\n",
    "    household_counts_df1 = calculate_household_counts_by_race(df, demographic_category1, year)\n",
    "    fig1 = go.Bar(x=household_counts_df1['Income_Bracket'], y=household_counts_df1['Household_Count'],\n",
    "                  name=demographic_category1)\n",
    "    \n",
    "    # Add the first bar chart to the subplot\n",
    "    fig.add_trace(fig1, row=1, col=1)\n",
    "\n",
    "    # Create the second bar chart for demographic_category2 (race2)\n",
    "    household_counts_df2 = calculate_household_counts_by_race(df, demographic_category2, year)\n",
    "    fig2 = go.Bar(x=household_counts_df2['Income_Bracket'], y=household_counts_df2['Household_Count'],\n",
    "                  name=demographic_category2)\n",
    "    \n",
    "    # Add the second bar chart to the subplot\n",
    "    fig.add_trace(fig2, row=1, col=2)\n",
    "\n",
    "    # Update layout to make the axes clean and add x and y titles\n",
    "    fig.update_layout(\n",
    "        title_text=f'Income Distribution Comparison ({year})',\n",
    "        xaxis_tickangle=-45,\n",
    "        showlegend=True\n",
    "    )\n",
    "\n",
    "    # Add x and y axis titles for the first chart (demographic_category1)\n",
    "    fig.update_xaxes(title_text='Income Bracket', row=1, col=1)\n",
    "    fig.update_yaxes(title_text='Household Count', row=1, col=1)\n",
    "\n",
    "    # Add x and y axis titles for the second chart (demographic_category2)\n",
    "    fig.update_xaxes(title_text='Income Bracket', row=1, col=2)\n",
    "    fig.update_yaxes(title_text='Household Count', row=1, col=2)\n",
    "    \n",
    "    # Show the figure\n",
    "    fig.show()\n",
    "\n",
    "# Get unique years and races\n",
    "years = df['year'].unique()\n",
    "\n",
    "# Create the interactive widgets\n",
    "year_slider = widgets.IntSlider(min=min(years), max=max(years), step=1, value=min(years),\n",
    "                                description='Year:', layout=widgets.Layout(width='1000px'))\n",
    "demographic_category1_dropdown = widgets.Dropdown(options=race_columns, description='DemogCat1:')\n",
    "demographic_category2_dropdown = widgets.Dropdown(options=race_columns, description='DemogCat2:')\n",
    "\n",
    "# Create the interactive widget\n",
    "interactive_plot = interactive(update_plots,\n",
    "                               demographic_category1=demographic_category1_dropdown,\n",
    "                               year=year_slider,\n",
    "                               demographic_category2=demographic_category2_dropdown)\n",
    "\n",
    "# Display the interactive widget (with the plots)\n",
    "interactive_plot\n"
   ]
  }
 ],
 "metadata": {
  "kernelspec": {
   "display_name": "Python 3 (ipykernel)",
   "language": "python",
   "name": "python3"
  },
  "language_info": {
   "codemirror_mode": {
    "name": "ipython",
    "version": 3
   },
   "file_extension": ".py",
   "mimetype": "text/x-python",
   "name": "python",
   "nbconvert_exporter": "python",
   "pygments_lexer": "ipython3",
   "version": "3.11.5"
  }
 },
 "nbformat": 4,
 "nbformat_minor": 5
}
